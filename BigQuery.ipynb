{
  "cells": [
    {
      "cell_type": "markdown",
      "source": [],
      "metadata": {
        "id": "Hp-SGQ8GMpml"
      },
      "id": "Hp-SGQ8GMpml"
    },
    {
      "cell_type": "markdown",
      "source": [
        "# BigQuery\n",
        "\n",
        "## Supported data types\n",
        "<table>\n",
        "  <thead>\n",
        "    <tr>\n",
        "      <th>Name</th>\n",
        "      <th>Data type</th>\n",
        "      <th>Description</th>\n",
        "    </tr>\n",
        "  </thead>\n",
        "  <tbody>\n",
        "    <tr>\n",
        "      <td><a href=\"https://cloud.google.com/bigquery/docs/reference/standard-sql/data-types#integer_types\">Integer</a></td>\n",
        "      <td><code translate=\"no\" dir=\"ltr\">INT64</code></td>\n",
        "      <td>Numeric values without fractional components</td>\n",
        "    </tr>\n",
        "    <tr>\n",
        "      <td><a href=\"https://cloud.google.com/bigquery/docs/reference/standard-sql/data-types#floating_point_types\">Floating point</a></td>\n",
        "      <td><code translate=\"no\" dir=\"ltr\">FLOAT64</code></td>\n",
        "      <td>Approximate numeric values with fractional components</td>\n",
        "    </tr>\n",
        "    <tr>\n",
        "      <td><a href=\"https://cloud.google.com/bigquery/docs/reference/standard-sql/data-types#numeric_type\">Numeric</a></td>\n",
        "      <td><code translate=\"no\" dir=\"ltr\">NUMERIC</code></td>\n",
        "      <td>Exact numeric values with fractional components</td>\n",
        "    </tr>\n",
        "    <tr>\n",
        "      <td><a href=\"https://cloud.google.com/bigquery/docs/reference/standard-sql/data-types#bignumeric_type\">BigNumeric</a></td>\n",
        "      <td><code translate=\"no\" dir=\"ltr\">BIGNUMERIC</code></td>\n",
        "      <td>Exact numeric values with fractional components</td>\n",
        "    </tr>\n",
        "    <tr>\n",
        "      <td><a href=\"https://cloud.google.com/bigquery/docs/reference/standard-sql/data-types#boolean_type\">Boolean</a></td>\n",
        "      <td><code translate=\"no\" dir=\"ltr\">BOOL</code></td>\n",
        "      <td>TRUE or FALSE (case-insensitive)</td>\n",
        "    </tr>\n",
        "    <tr>\n",
        "      <td><a href=\"https://cloud.google.com/bigquery/docs/reference/standard-sql/data-types#string_type\">String</a></td>\n",
        "      <td><code translate=\"no\" dir=\"ltr\">STRING</code></td>\n",
        "      <td>Variable-length character (Unicode) data</td>\n",
        "    </tr>\n",
        "    <tr>\n",
        "      <td><a href=\"https://cloud.google.com/bigquery/docs/reference/standard-sql/data-types#bytes_type\">Bytes</a></td>\n",
        "      <td><code translate=\"no\" dir=\"ltr\">BYTES</code></td>\n",
        "      <td>Variable-length binary data</td>\n",
        "    </tr>\n",
        "    <tr>\n",
        "      <td><a href=\"https://cloud.google.com/bigquery/docs/reference/standard-sql/data-types#date_type\">Date</a></td>\n",
        "      <td><code translate=\"no\" dir=\"ltr\">DATE</code></td>\n",
        "      <td>A logical calendar date</td>\n",
        "    </tr>\n",
        "    <tr>\n",
        "      <td><a href=\"https://cloud.google.com/bigquery/docs/reference/standard-sql/data-types#datetime_type\">Date/Time</a></td>\n",
        "      <td><code translate=\"no\" dir=\"ltr\">DATETIME</code></td>\n",
        "      <td>A year, month, day, hour, minute, second, and subsecond</td>\n",
        "    </tr>\n",
        "    <tr>\n",
        "      <td><a href=\"https://cloud.google.com/bigquery/docs/reference/standard-sql/data-types#time_type\">Time</a></td>\n",
        "      <td><code translate=\"no\" dir=\"ltr\">TIME</code></td>\n",
        "      <td>A time, independent of a specific date</td>\n",
        "    </tr>\n",
        "    <tr>\n",
        "      <td><a href=\"https://cloud.google.com/bigquery/docs/reference/standard-sql/data-types#timestamp_type\">Timestamp</a></td>\n",
        "      <td><code translate=\"no\" dir=\"ltr\">TIMESTAMP</code></td>\n",
        "      <td>An absolute point in time, with microsecond precision</td>\n",
        "    </tr>\n",
        "    <tr>\n",
        "      <td><a href=\"https://cloud.google.com/bigquery/docs/reference/standard-sql/data-types#struct_type\">Struct (Record)</a></td>\n",
        "      <td><code translate=\"no\" dir=\"ltr\">STRUCT</code></td>\n",
        "      <td>Container of ordered fields each with a type (required) and field name (optional)</td>\n",
        "    </tr>\n",
        "    <tr>\n",
        "      <td><a href=\"https://cloud.google.com/bigquery/docs/reference/standard-sql/data-types#geography_type\">Geography</a></td>\n",
        "      <td><code translate=\"no\" dir=\"ltr\">GEOGRAPHY</code></td>\n",
        "      <td>A pointset on the Earth's surface (a set of points, lines and polygons on the <a href=\"http://earth-info.nga.mil/GandG/update/index.php\">WGS84</a>\n",
        "reference spheroid, with geodesic edges)</td>\n",
        "    </tr>\n",
        "    <tr>\n",
        "      <td><a href=\"https://cloud.google.com/bigquery/docs/reference/standard-sql/data-types#json_type\">JSON</a></td>\n",
        "      <td><code translate=\"no\" dir=\"ltr\">JSON</code></td>\n",
        "      <td>Represents JSON, a lightweight data-interchange format</td>\n",
        "    </tr>\n",
        "    <tr>\n",
        "      <td><a href=\"https://cloud.google.com/bigquery/docs/reference/standard-sql/range-functions#range\">RANGE</a></td>\n",
        "      <td><code translate=\"no\" dir=\"ltr\">RANGE</code></td>\n",
        "      <td>A range of <code translate=\"no\" dir=\"ltr\">DATE</code>, <code translate=\"no\" dir=\"ltr\">DATETIME</code>, or <code translate=\"no\" dir=\"ltr\">TIMESTAMP</code> values</td>\n",
        "    </tr>\n",
        "  </tbody>\n",
        "</table>\n",
        "\n",
        "## Create a dataset\n"
      ],
      "metadata": {
        "id": "xz1nxUTqoq9k"
      },
      "id": "xz1nxUTqoq9k"
    },
    {
      "cell_type": "code",
      "source": [
        "%%bigquery\n",
        "CREATE SCHEMA IF NOT EXISTS `bq_ds`"
      ],
      "metadata": {
        "id": "zUTc1daJFQUR"
      },
      "id": "zUTc1daJFQUR",
      "execution_count": null,
      "outputs": []
    },
    {
      "cell_type": "markdown",
      "source": [
        "# Create a table"
      ],
      "metadata": {
        "id": "KJofI2zwGeXF"
      },
      "id": "KJofI2zwGeXF"
    },
    {
      "cell_type": "code",
      "source": [
        "%%bigquery\n",
        "CREATE OR REPLACE TABLE `bq_ds.all_types` (\n",
        "  int_col INT64,\n",
        "  float_col FLOAT64,\n",
        "  numeric_col NUMERIC,\n",
        "  bignumeric_col BIGNUMERIC,\n",
        "  bool_col BOOL,\n",
        "  string_col STRING,\n",
        "  bytes_col BYTES,\n",
        "  date_col DATE,\n",
        "  datetime_col DATETIME,\n",
        "  time_col TIME,\n",
        "  timestamp_col TIMESTAMP,\n",
        "  struct_col STRUCT<name STRING, age INT64>,\n",
        "  geography_col GEOGRAPHY,\n",
        "  json_col JSON,\n",
        "  range_col RANGE<DATE>\n",
        ")"
      ],
      "metadata": {
        "id": "Bes9f5LPM2Bt"
      },
      "id": "Bes9f5LPM2Bt",
      "execution_count": null,
      "outputs": []
    },
    {
      "cell_type": "code",
      "source": [
        "%%bigquery\n",
        "INSERT INTO `bq_ds.all_types`\n",
        "-- (int_col,float_col,numeric_col,bignumeric_col,bool_col,string_col,bytes_col,date_col,datetime_col,time_col,timestamp_col,struct_col,geography_col,json_col,range_col)\n",
        "VALUES\n",
        "(1, -- integer\n",
        "1.1, -- float\n",
        "1, -- numeric\n",
        "1, -- big numeric\n",
        "true, --boolean\n",
        "'hello', --string\n",
        "b'abc\\n', -- bytes\n",
        "DATE '2024-09-18',-- date\n",
        "DATETIME '2024-09-17 12:30:00.45', -- date with time\n",
        "TIME '22:59:00.45', --time\n",
        "TIMESTAMP '2024-08-27T12:30:00.45 Europe/Berlin', -- timestamp\n",
        "('Peter', 25), -- struct\n",
        "ST_GEOGFROMTEXT('POINT(32 90)'), -- geography\n",
        "JSON '{\"hello\": \"world\", \"b\": [1,2,3]}', -- json\n",
        "RANGE(DATE '2023-12-01', DATE '2023-12-31') -- range\n",
        ")"
      ],
      "metadata": {
        "id": "TFVvfcSPPvWm"
      },
      "id": "TFVvfcSPPvWm",
      "execution_count": null,
      "outputs": []
    },
    {
      "cell_type": "code",
      "source": [
        "%%bigquery\n",
        "SELECT * FROM `bq_ds.all_types`"
      ],
      "metadata": {
        "id": "sVa9uBojZH0e"
      },
      "id": "sVa9uBojZH0e",
      "execution_count": null,
      "outputs": []
    },
    {
      "cell_type": "markdown",
      "source": [
        "# Work with arrays\n",
        "Filter the values inside an array (`WHERE x <=5`), multiply by 2 (`x * 2`) and build a new array with the `ARRAY()` function."
      ],
      "metadata": {
        "id": "oo8Fjwp7admu"
      },
      "id": "oo8Fjwp7admu"
    },
    {
      "cell_type": "code",
      "source": [
        "%%bigquery\n",
        "CREATE OR REPLACE TABLE `bq_ds.arrays` AS (\n",
        "SELECT * FROM UNNEST(\n",
        "  [STRUCT(1 AS id, [1,2,3] AS list),\n",
        "   (2,[4,5,6]),\n",
        "   (3, [7,8,9])]\n",
        "));\n",
        "SELECT * FROM `bq_ds.arrays` ORDER BY id ASC;"
      ],
      "metadata": {
        "id": "7QH5V4x1bcfM"
      },
      "id": "7QH5V4x1bcfM",
      "execution_count": null,
      "outputs": []
    },
    {
      "cell_type": "code",
      "source": [
        "%%bigquery\n",
        "SELECT id, list, ARRAY(SELECT x * 2 FROM UNNEST(list) AS x WHERE x <=5) AS doubled\n",
        "FROM `bq_ds.arrays` ORDER BY id ASC;"
      ],
      "metadata": {
        "id": "Q5O9_nZ9d9Ki"
      },
      "id": "Q5O9_nZ9d9Ki",
      "execution_count": null,
      "outputs": []
    },
    {
      "cell_type": "code",
      "source": [
        "%%bigquery\n",
        "UPDATE `bq_ds.arrays`\n",
        "SET list = ARRAY(SELECT x * 3 FROM UNNEST(list) AS x WHERE x <=5)\n",
        "WHERE true;\n",
        "SELECT * FROM `bq_ds.arrays` ORDER BY id ASC;"
      ],
      "metadata": {
        "id": "WX65OGoOcZr6"
      },
      "id": "WX65OGoOcZr6",
      "execution_count": null,
      "outputs": []
    },
    {
      "cell_type": "code",
      "source": [
        "%%bigquery\n",
        "SELECT * FROM `bq_ds.arrays` CROSS JOIN UNNEST(list) AS item ORDER BY id ASC;"
      ],
      "metadata": {
        "id": "DZgVhts9JB-M"
      },
      "id": "DZgVhts9JB-M",
      "execution_count": null,
      "outputs": []
    },
    {
      "cell_type": "code",
      "source": [
        "%%bigquery\n",
        "SELECT * FROM UNNEST([STRUCT(1 as a,2 as b,3 as c)])"
      ],
      "metadata": {
        "id": "BiOLkua8PMO6"
      },
      "id": "BiOLkua8PMO6",
      "execution_count": null,
      "outputs": []
    },
    {
      "cell_type": "markdown",
      "source": [
        "# Work with structs"
      ],
      "metadata": {
        "id": "6QQ3i-PZwShU"
      },
      "id": "6QQ3i-PZwShU"
    },
    {
      "cell_type": "code",
      "source": [
        "%%bigquery\n",
        "CREATE OR REPLACE TABLE `bq_ds.structs` (\n",
        "  simple_col STRUCT<val INT64>,\n",
        "  advanced_col STRUCT<\n",
        "    val INT64,\n",
        "    names ARRAY<STRING>>,\n",
        "  nested_col STRUCT<\n",
        "    n STRUCT<\n",
        "      a INT64,\n",
        "      b INT64>>,\n",
        "  repeated_col ARRAY<STRUCT<val INT64>>\n",
        ")"
      ],
      "metadata": {
        "id": "QrgByiLLkgXW"
      },
      "id": "QrgByiLLkgXW",
      "execution_count": null,
      "outputs": []
    },
    {
      "cell_type": "code",
      "source": [
        "%%bigquery\n",
        "INSERT INTO `bq_ds.structs` (simple_col, advanced_col, nested_col,repeated_col)\n",
        "VALUES\n",
        "(STRUCT(2),(23,['Peter', 'Loki']), STRUCT((2,3)),[STRUCT(2),STRUCT(3)]),\n",
        "## ARRAY<STRUCT<INT64>>[STRUCT<INT64>(2),STRUCT<INT64>(3)]\n",
        "(STRUCT<INT64>(3), STRUCT<INT64,ARRAY<STRING>>(33,['Bob']), STRUCT<STRUCT<INT64,INT64>>((STRUCT<INT64,INT64>(3,4))), ARRAY<STRUCT<INT64>>[STRUCT<INT64>(2),STRUCT<INT64>(3)]),\n",
        "\n",
        "(STRUCT(4 AS val), STRUCT(44 AS val, ['Justus'] AS names), STRUCT(STRUCT(4,5) AS n), [STRUCT(4 AS val),STRUCT(5)]);\n"
      ],
      "metadata": {
        "id": "8TRcRogQocOg"
      },
      "id": "8TRcRogQocOg",
      "execution_count": null,
      "outputs": []
    },
    {
      "cell_type": "code",
      "source": [
        "%%bigquery\n",
        "SELECT advanced_col.val, advanced_col.names[OFFSET(0)] AS name FROM `bq_ds.structs`"
      ],
      "metadata": {
        "id": "TIShTs3GskyD"
      },
      "id": "TIShTs3GskyD",
      "execution_count": null,
      "outputs": []
    },
    {
      "cell_type": "code",
      "source": [
        "%%bigquery\n",
        "--\n",
        "SELECT advanced_col.val FROM `bq_ds.structs` WHERE 'Loki' IN UNNEST(advanced_col.names);"
      ],
      "metadata": {
        "id": "76VheosUtCAN"
      },
      "id": "76VheosUtCAN",
      "execution_count": null,
      "outputs": []
    },
    {
      "cell_type": "markdown",
      "source": [
        "# Work with JSON"
      ],
      "metadata": {
        "id": "8SeMOF0WwdRI"
      },
      "id": "8SeMOF0WwdRI"
    },
    {
      "cell_type": "code",
      "source": [
        "%%bigquery\n",
        "CREATE OR REPLACE TABLE `bq_ds.json` (\n",
        "  id INT64,\n",
        "  json_col JSON\n",
        ")"
      ],
      "metadata": {
        "id": "_evUw_SVwfe9"
      },
      "id": "_evUw_SVwfe9",
      "execution_count": null,
      "outputs": []
    },
    {
      "cell_type": "code",
      "source": [
        "%%bigquery\n",
        "INSERT INTO `bq_ds.json`\n",
        "VALUES\n",
        "(1, JSON '{\"a\": 1, \"b\": 2}'), -- JSON literal\n",
        "(2, JSON_ARRAY(10, 'peter', true, [20, 30])), -- JSON array\n",
        "(3, JSON_OBJECT('name','justus','friends',['bob','peter'])), -- JSON object\n",
        "(4, TO_JSON(STRUCT('Gartenweg' AS street, 11 AS number))); --JSON from schema\n",
        "SELECT * FROM `bq_ds.json`;"
      ],
      "metadata": {
        "id": "kMqeIqZ7wnRa"
      },
      "id": "kMqeIqZ7wnRa",
      "execution_count": null,
      "outputs": []
    },
    {
      "cell_type": "code",
      "source": [
        "%%bigquery\n",
        "CREATE OR REPLACE TABLE `bq_ds.orders`(id INT64, cart JSON);\n",
        "\n",
        "INSERT INTO `bq_ds.orders` VALUES\n",
        "(1, JSON \"\"\"{\n",
        "        \"name\": \"Alice\",\n",
        "        \"items\": [\n",
        "            {\"product\": \"book\", \"price\": 10},\n",
        "            {\"product\": \"food\", \"price\": 5}\n",
        "        ]\n",
        "    }\"\"\"),\n",
        "(2, JSON \"\"\"{\n",
        "        \"name\": \"Bob\",\n",
        "        \"items\": [\n",
        "            {\"product\": \"pen\", \"price\": 20}\n",
        "        ]\n",
        "    }\"\"\");\n",
        "SELECT * FROM `bq_ds.orders`;"
      ],
      "metadata": {
        "id": "pa-xKD5a1ZbA"
      },
      "id": "pa-xKD5a1ZbA",
      "execution_count": null,
      "outputs": []
    },
    {
      "cell_type": "code",
      "source": [
        "%%bigquery\n",
        "SELECT (SELECT SUM(CAST(JSON_VALUE(j,'$.price') AS INT64)) FROM UNNEST(JSON_QUERY_ARRAY(cart, '$.items')) AS j) FROM `bq_ds.orders`;"
      ],
      "metadata": {
        "id": "X6Zopk8W2BOg"
      },
      "id": "X6Zopk8W2BOg",
      "execution_count": null,
      "outputs": []
    },
    {
      "cell_type": "markdown",
      "source": [
        "# Work with timestamps"
      ],
      "metadata": {
        "id": "rrq7O4dc5Cnc"
      },
      "id": "rrq7O4dc5Cnc"
    },
    {
      "cell_type": "code",
      "source": [
        "%%bigquery\n",
        "SELECT\n",
        "CURRENT_TIMESTAMP() AS now,\n",
        "EXTRACT(HOUR FROM TIMESTAMP('2024-06-25 20:30:00+00') AT TIME ZONE 'Europe/Berlin') AS hour_a,\n",
        "EXTRACT(HOUR FROM TIMESTAMP '2024-06-25 20:30:00 Europe/Berlin') AS hour_b,\n",
        "FORMAT_TIMESTAMP(\"%b %Y %H\", TIMESTAMP \"2020-12-25 15:30:55+00\") AS month_year_a,\n",
        "FORMAT_TIMESTAMP(\"%b %Y %H\", TIMESTAMP \"2020-12-25 15:30:55Z\", 'Europe/Berlin') AS month_year_b,\n",
        "PARSE_TIMESTAMP(\"%a %b %e %I:%M:%S %Y\", \"Thu Dec 24 07:30:00 2024\") AS parsed;"
      ],
      "metadata": {
        "id": "GtRnJ0MFKH3X"
      },
      "id": "GtRnJ0MFKH3X",
      "execution_count": null,
      "outputs": []
    },
    {
      "cell_type": "markdown",
      "source": [
        "## Load data\n",
        "\n",
        "## Copy data\n",
        "\n",
        "## Clone data\n",
        "\n",
        "## Remote function SDP\n",
        "\n",
        "```shell\n",
        "pip install -r /path/to/requirements.txt\n",
        "```"
      ],
      "metadata": {
        "id": "xKYzK_k_PXD1"
      },
      "id": "xKYzK_k_PXD1"
    }
  ],
  "metadata": {
    "kernelspec": {
      "display_name": "Python 3",
      "language": "python",
      "name": "python3"
    },
    "language_info": {
      "codemirror_mode": {
        "name": "ipython",
        "version": 3
      },
      "file_extension": ".py",
      "mimetype": "text/x-python",
      "name": "python",
      "nbconvert_exporter": "python",
      "pygments_lexer": "ipython3",
      "version": "3.10.10"
    },
    "colab": {
      "provenance": [],
      "name": "BigQuery"
    }
  },
  "nbformat": 4,
  "nbformat_minor": 5
}