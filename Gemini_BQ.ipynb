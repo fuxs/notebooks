{
  "cells": [
    {
      "cell_type": "markdown",
      "source": [
        "# Gemini in BigQuery"
      ],
      "metadata": {
        "id": "SDJL7_58mqrl"
      },
      "id": "SDJL7_58mqrl"
    },
    {
      "cell_type": "code",
      "source": [
        "# @title 🥸\n",
        "# python imports\n",
        "import json\n",
        "import os\n",
        "import re\n",
        "import ipywidgets as widgets\n",
        "from IPython.display import display, Markdown\n",
        "\n",
        "# these are the required services\n",
        "required_services = [\n",
        "    'aiplatform.googleapis.com',\n",
        "    #'cloudaicompanion.googleapis.com',\n",
        "    #'dataplex.googleapis.com',\n",
        "    'compute.googleapis.com',\n",
        "    'dataform.googleapis.com',\n",
        "    'bigqueryconnection.googleapis.com'\n",
        "]\n",
        "filter_list = [f\"(config.name:{service} AND state:ENABLED) OR \" for service in required_services]\n",
        "filter = \"\".join(filter_list)[:-4]\n",
        "\n",
        "# PROJECT\n",
        "project_ = os.environ['GOOGLE_CLOUD_PROJECT']\n",
        "def on_project_change(change):\n",
        "    if change['type'] == 'change' and change['name'] == 'value':\n",
        "        global project_\n",
        "        project_ = change['new']\n",
        "\n",
        "project__ = widgets.Text(\n",
        "    value= project_,\n",
        "    placeholder='Project ID',\n",
        "    description='Project ID:',\n",
        "    disabled=False\n",
        ")\n",
        "project__.observe(on_project_change)\n",
        "display(project__)\n",
        "\n",
        "# REGION\n",
        "region_ = os.environ['GOOGLE_CLOUD_REGION']\n",
        "def on_region_change(change):\n",
        "    if change['type'] == 'change' and change['name'] == 'value':\n",
        "        global region_\n",
        "        region_ = change['new']\n",
        "\n",
        "region__ = widgets.Text(\n",
        "    value= region_,\n",
        "    placeholder='Region',\n",
        "    description='Region :',\n",
        "    disabled=False\n",
        ")\n",
        "region__.observe(on_region_change)\n",
        "\n",
        "display(region__)\n",
        "\n",
        "# DATASET\n",
        "dataset_ = f\"demo_ds\"\n",
        "def on_dataset_change(change):\n",
        "    if change['type'] == 'change' and change['name'] == 'value':\n",
        "        global dataset_\n",
        "        dataset_ = change['new']\n",
        "\n",
        "dataset__ = widgets.Text(\n",
        "    value= dataset_,\n",
        "    description='Dataset',\n",
        "    disabled=False\n",
        ")\n",
        "dataset__.observe(on_dataset_change)\n",
        "display(dataset__)\n",
        "\n",
        "# CONNECTION\n",
        "connection_ = f\"my-connection\"\n",
        "\n",
        "def on_connection_change(change):\n",
        "    if change['type'] == 'change' and change['name'] == 'value':\n",
        "        global connection_\n",
        "        connection_ = change['new']\n",
        "\n",
        "connection__ = widgets.Text(\n",
        "    value= connection_,\n",
        "    description='Connection',\n",
        "    disabled=False\n",
        ")\n",
        "connection__.observe(on_connection_change)\n",
        "display(connection__)\n",
        "\n",
        "# MODEL\n",
        "model_ = \"gemini-flash\"\n",
        "\n",
        "def on_model_change(change):\n",
        "    if change['type'] == 'change' and change['name'] == 'value':\n",
        "        global model_\n",
        "        model_ = change['new']\n",
        "\n",
        "model__ = widgets.Text(\n",
        "    value= model_,\n",
        "    description='Model',\n",
        "    disabled=False\n",
        ")\n",
        "model__.observe(on_model_change)\n",
        "display(model__)\n",
        "\n",
        "# BUCKET\n",
        "bucket_ = \"gs://vertexit-golden/videos/*\"\n",
        "bucket_name_ = \"\"\n",
        "bucket_file_ = \"\"\n",
        "\n",
        "def update_bucket_info(bucket):\n",
        "  bre = re.search(\"gs://(.*?)/(.*)\", bucket)\n",
        "  if bre:\n",
        "    global bucket_, bucket_name_, bucket_file_\n",
        "    bucket_ = bucket\n",
        "    bucket_name_ = bre.group(1)\n",
        "    bucket_file_ = bre.group(2)\n",
        "\n",
        "def on_bucket_change(change):\n",
        "  if change['type'] == 'change' and change['name'] == 'value':\n",
        "        update_bucket_info(change['new'])\n",
        "\n",
        "bucket__ = widgets.Text(\n",
        "    value= bucket_,\n",
        "    description='Bucket',\n",
        "    disabled=False\n",
        ")\n",
        "bucket__.observe(on_bucket_change)\n",
        "display(bucket__)\n",
        "update_bucket_info(bucket_)\n",
        "\n",
        "# get the current user account\n",
        "result = !gcloud auth list --filter=\"status:ACTIVE\" --format=\"value(account)\"\n",
        "user_ = widgets.Text(\n",
        "    value= result.nlstr,\n",
        "    placeholder='User',\n",
        "    description='User :',\n",
        "    disabled=True\n",
        ")\n",
        "display(user_)\n",
        "\n",
        "# service account\n",
        "saccount_ = 'undefined'\n",
        "saccount__ = widgets.Text(\n",
        "    value= saccount_,\n",
        "    description='SA',\n",
        "    disabled=True\n",
        ")\n",
        "display(saccount__)\n",
        "\n",
        "def extract_service_account(s):\n",
        "    print(s.nlstr)\n",
        "    g = re.search(r'{ *\"serviceAccountId\" *: *\"([^\"]+)\"', s.nlstr)\n",
        "    global saccount_\n",
        "    if g:\n",
        "      saccount_ = g.group(1)\n",
        "      saccount__.value = saccount_\n",
        "    else:\n",
        "      saccount_ = 'unavailable'\n",
        "\n",
        "def vars_dict():\n",
        "  return {\"project_\": project_,\n",
        "   \"region_\": region_,\n",
        "   \"connection_\": connection_,\n",
        "   \"model_\": model_,\n",
        "   \"saccount_\": saccount_,\n",
        "   \"dataset_\":dataset_,\n",
        "   \"bucket_\":bucket_}\n",
        "\n",
        "def cell_magic_wrapper(line, query):\n",
        "    from google.cloud.bigquery.magics.magics import _cell_magic\n",
        "    q = query.format(**vars_dict())\n",
        "    print(q)\n",
        "    return _cell_magic(line, q)\n",
        "\n",
        "# this is a hack for a variable substituion in queries\n",
        "ip = get_ipython()\n",
        "ip.register_magic_function(cell_magic_wrapper, magic_kind=\"cell\", magic_name=\"bigquery\")\n",
        "\n",
        "class StopExecution(Exception):\n",
        "    def _render_traceback_(self):\n",
        "        return []"
      ],
      "metadata": {
        "id": "v11pzfyxQR13",
        "cellView": "form"
      },
      "id": "v11pzfyxQR13",
      "execution_count": null,
      "outputs": []
    },
    {
      "cell_type": "code",
      "source": [
        "# @title Check services [optional]\n",
        "\n",
        "# get the activated services\n",
        "result = !gcloud services list --enabled --filter=\"$filter\" --format=\"json(name)\"\n",
        "json_result = 42\n",
        "try:\n",
        "  json_result = json.loads(result.nlstr)\n",
        "except Exception as e:\n",
        "  print(result.nlstr)\n",
        "  raise StopExecution()\n",
        "activated_services = [re.search('([^\\/]+$)',service[\"name\"]).group(0) for service in json_result]\n",
        "activated_services_map = dict.fromkeys(activated_services,True)\n",
        "service_map = {name: name in activated_services_map for name in required_services}\n",
        "for name,enabled in service_map.items():\n",
        "    print(name.ljust(64, ' '), \"🟢\" if enabled else \"🔴  << PLEASE ACTIVATE BEFORE PROCEEDING\")"
      ],
      "metadata": {
        "cellView": "form",
        "id": "5qh3NGjblKcC"
      },
      "id": "5qh3NGjblKcC",
      "execution_count": null,
      "outputs": []
    },
    {
      "cell_type": "markdown",
      "source": [
        "# Create an external connection\n",
        "We require an external connection to the Gemini API. BigQuery distinguishes between multi-regions (```us``` and ```eu```) and single regions (```us-central1``` and ```europe-west1```)."
      ],
      "metadata": {
        "id": "5fj5tO618z8Q"
      },
      "id": "5fj5tO618z8Q"
    },
    {
      "cell_type": "code",
      "id": "HvSQUb7BpV5w29n5pqdLxZa7",
      "metadata": {
        "tags": [],
        "id": "HvSQUb7BpV5w29n5pqdLxZa7"
      },
      "source": [
        "!bq --project_id=\"{project_}\" --location=\"{region_}\" mk --connection --connection_type=CLOUD_RESOURCE \"{connection_}\""
      ],
      "execution_count": null,
      "outputs": []
    },
    {
      "cell_type": "code",
      "source": [
        "# @title 🐞\n",
        "print(f'!bq --project_id=\"{project_}\" --location=\"{region_}\" mk --connection --connection_type=CLOUD_RESOURCE \"{connection_}\"')"
      ],
      "metadata": {
        "id": "iDfVd7EiWNdO",
        "cellView": "form"
      },
      "id": "iDfVd7EiWNdO",
      "execution_count": null,
      "outputs": []
    },
    {
      "cell_type": "markdown",
      "source": [
        "# Show connection Details\n",
        "\n",
        "Get more details about the created connection, e.g. the related service account."
      ],
      "metadata": {
        "id": "Cp8sS5_bXLFU"
      },
      "id": "Cp8sS5_bXLFU"
    },
    {
      "cell_type": "code",
      "source": [
        "# execute the command\n",
        "result = !bq --project_id=\"{project_}\" --location=\"{region_}\" show --connection \"{project_}.{region_}.{connection_}\"\n",
        "extract_service_account(result)"
      ],
      "metadata": {
        "id": "CEcv9swGQjJ-"
      },
      "id": "CEcv9swGQjJ-",
      "execution_count": null,
      "outputs": []
    },
    {
      "cell_type": "code",
      "source": [
        "# @title 🐞\n",
        "print(f'!bq --project_id=\"{project_}\" --location=\"{region_}\" show --connection \"{project_}.{region_}.{connection_}\"')"
      ],
      "metadata": {
        "id": "GqoXc_5DW9Ez",
        "cellView": "form"
      },
      "id": "GqoXc_5DW9Ez",
      "execution_count": null,
      "outputs": []
    },
    {
      "cell_type": "markdown",
      "source": [
        "# Assign role Vertex AI User to service account\n",
        "\n",
        "The created BigQuery connection uses a service account to access the Vertex AI APIs. This is the reason why we have to assign the **Vertex AI User** (*roles/aiplatform.user*) to it:\n"
      ],
      "metadata": {
        "id": "s4lRGK9Ff4Iw"
      },
      "id": "s4lRGK9Ff4Iw"
    },
    {
      "cell_type": "code",
      "source": [
        "!gcloud projects add-iam-policy-binding \"{project_}\" --role=roles/aiplatform.user --condition=\"None\" --member \"serviceAccount:{saccount_}\""
      ],
      "metadata": {
        "id": "onG108wHf-Ob",
        "collapsed": true
      },
      "id": "onG108wHf-Ob",
      "execution_count": null,
      "outputs": []
    },
    {
      "cell_type": "code",
      "source": [
        "# @title 🐞\n",
        "print(f'!gcloud projects add-iam-policy-binding \"{project_}\" --role=roles/aiplatform.user --condition=\"None\" --member \"serviceAccount:{saccount_}\"')"
      ],
      "metadata": {
        "id": "PAELsB1up3V_",
        "cellView": "form"
      },
      "id": "PAELsB1up3V_",
      "execution_count": null,
      "outputs": []
    },
    {
      "cell_type": "markdown",
      "source": [
        "# Create a dataset to store your model [optional]\n",
        "The dataset is the level where ai-models are stored. Either create a new dataset or use an existing one."
      ],
      "metadata": {
        "id": "BOD4z0W6Yj-p"
      },
      "id": "BOD4z0W6Yj-p"
    },
    {
      "cell_type": "code",
      "source": [
        "!bq --project_id=\"{project_}\" --location=\"{region_}\" mk --dataset \"{project_}:{dataset_}\""
      ],
      "metadata": {
        "id": "khbajUYScMAq"
      },
      "id": "khbajUYScMAq",
      "execution_count": null,
      "outputs": []
    },
    {
      "cell_type": "code",
      "source": [
        "# @title 🐞\n",
        "print(f'!bq --project_id=\"{project_}\" --location=\"{region_}\" mk --dataset \"{project_}:{dataset_}\"')"
      ],
      "metadata": {
        "id": "AD373scA-SCk",
        "cellView": "form"
      },
      "id": "AD373scA-SCk",
      "execution_count": null,
      "outputs": []
    },
    {
      "cell_type": "markdown",
      "source": [
        "# Create the model"
      ],
      "metadata": {
        "id": "vNQvRZWW9jkG"
      },
      "id": "vNQvRZWW9jkG"
    },
    {
      "cell_type": "code",
      "source": [
        "%%bigquery\n",
        "CREATE OR REPLACE MODEL `{project_}.{dataset_}.{model_}`\n",
        "REMOTE WITH CONNECTION `{project_}.{region_}.{connection_}`\n",
        "OPTIONS(endpoint = 'gemini-1.5-flash');\n"
      ],
      "metadata": {
        "id": "1sega2iCPZQk"
      },
      "id": "1sega2iCPZQk",
      "execution_count": null,
      "outputs": []
    },
    {
      "cell_type": "code",
      "source": [
        "# @title 🐞\n",
        "print(f\"\"\"%%bigquery\n",
        "CREATE OR REPLACE MODEL `{project_}.{dataset_}.{model_}`\n",
        "REMOTE WITH CONNECTION `{project_}.{region_}.{connection_}`\n",
        "OPTIONS(endpoint = 'gemini-1.5-flash');\"\"\")"
      ],
      "metadata": {
        "id": "TvCUKpWp9oTx",
        "cellView": "form"
      },
      "id": "TvCUKpWp9oTx",
      "execution_count": null,
      "outputs": []
    },
    {
      "cell_type": "markdown",
      "source": [
        "# Use Gemini Flash with structured data\n",
        "The public dateset `bigquery-public-data.bbc_news.fulltext` is located in the region `US`. If your model is located in a different region then please change the table."
      ],
      "metadata": {
        "id": "2nm4cd6Hs_dO"
      },
      "id": "2nm4cd6Hs_dO"
    },
    {
      "cell_type": "code",
      "source": [
        "%%bigquery\n",
        "WITH selected AS (\n",
        "  SELECT CONCAT('Return a list of sentences in this article that cite a statistic: ', body) AS prompt\n",
        "  FROM `bigquery-public-data.bbc_news.fulltext` LIMIT 5\n",
        ")\n",
        "SELECT ml_generate_text_llm_result\n",
        "FROM\n",
        "  ML.GENERATE_TEXT(\n",
        "    MODEL `{project_}.{dataset_}.{model_}`,\n",
        "    TABLE selected,\n",
        "    STRUCT(\n",
        "      0.2 AS temperature,\n",
        "      1024 AS max_output_tokens,\n",
        "      TRUE AS FLATTEN_JSON_OUTPUT)\n",
        "  );"
      ],
      "metadata": {
        "id": "NPPuJMdFyPoi"
      },
      "id": "NPPuJMdFyPoi",
      "execution_count": null,
      "outputs": []
    },
    {
      "cell_type": "code",
      "source": [
        "# @title 🐞\n",
        "print(f\"\"\"%%bigquery\n",
        "WITH selected AS (\n",
        "  SELECT CONCAT('Return a list of sentences in this article that cite a statistic: ', body) AS prompt\n",
        "  FROM `bigquery-public-data.bbc_news.fulltext` LIMIT 5\n",
        ")\n",
        "SELECT ml_generate_text_llm_result\n",
        "FROM\n",
        "  ML.GENERATE_TEXT(\n",
        "    MODEL `{project_}.{dataset_}.{model_}`,\n",
        "    TABLE selected,\n",
        "    STRUCT(\n",
        "      0.2 AS temperature,\n",
        "      1024 AS max_output_tokens,\n",
        "      TRUE AS FLATTEN_JSON_OUTPUT)\n",
        "  );\"\"\")"
      ],
      "metadata": {
        "cellView": "form",
        "id": "VmaOUGtJyZAk"
      },
      "id": "VmaOUGtJyZAk",
      "execution_count": null,
      "outputs": []
    },
    {
      "cell_type": "markdown",
      "source": [
        "# Use Gemini Flash with unstructured data\n",
        "This example demonstrates how you can use unstructured data like video, audio, PDFs in BigQuery. First we have to create an object table in BigQuery. This object table contains metadata of objects stored in Cloud Storage."
      ],
      "metadata": {
        "id": "Q5FcD2o9zzyz"
      },
      "id": "Q5FcD2o9zzyz"
    },
    {
      "cell_type": "code",
      "source": [
        "%%bigquery\n",
        "CREATE OR REPLACE EXTERNAL TABLE `{project_}.{dataset_}.object_table`\n",
        "WITH CONNECTION `{project_}.{region_}.{connection_}`\n",
        "OPTIONS(\n",
        "  object_metadata = 'SIMPLE',\n",
        "  uris = ['{bucket_}']\n",
        ");"
      ],
      "metadata": {
        "id": "UKyWfIpXzi5C"
      },
      "id": "UKyWfIpXzi5C",
      "execution_count": null,
      "outputs": []
    },
    {
      "cell_type": "code",
      "source": [
        "# @title 🐞\n",
        "print(f\"\"\"%%bigquery\n",
        "CREATE OR REPLACE EXTERNAL TABLE `{project_}.{dataset_}.object_table`\n",
        "WITH CONNECTION `{project_}.{region_}.{connection_}`\n",
        "OPTIONS(\n",
        "  object_metadata = 'SIMPLE',\n",
        "  uris = [{bucket_}]\n",
        ");\"\"\")"
      ],
      "metadata": {
        "cellView": "form",
        "id": "EpVMwE0O4GKJ"
      },
      "id": "EpVMwE0O4GKJ",
      "execution_count": null,
      "outputs": []
    },
    {
      "cell_type": "markdown",
      "source": [
        "# Assign role Object Viewer to service account"
      ],
      "metadata": {
        "id": "LGv2XQ0A6A_e"
      },
      "id": "LGv2XQ0A6A_e"
    },
    {
      "cell_type": "code",
      "source": [
        "!gsutil iam ch serviceAccount:{saccount_}:objectViewer gs://{bucket_name_}"
      ],
      "metadata": {
        "id": "x4ZT19rcAnO7"
      },
      "id": "x4ZT19rcAnO7",
      "execution_count": null,
      "outputs": []
    },
    {
      "cell_type": "code",
      "source": [
        "# @title 🐞\n",
        "print(f'!gsutil iam ch serviceAccount:{saccount_}:objectViewer gs://{bucket_name_}')"
      ],
      "metadata": {
        "cellView": "form",
        "id": "Ewrf5sasDNJv"
      },
      "id": "Ewrf5sasDNJv",
      "execution_count": null,
      "outputs": []
    },
    {
      "cell_type": "markdown",
      "source": [
        "# Check the content of the object table [optional]"
      ],
      "metadata": {
        "id": "4BaZ9y5p5cgs"
      },
      "id": "4BaZ9y5p5cgs"
    },
    {
      "cell_type": "code",
      "source": [
        "%%bigquery\n",
        "SELECT * FROM `{project_}.{dataset_}.object_table` LIMIT 5;"
      ],
      "metadata": {
        "id": "5rI_auzE5ie5"
      },
      "id": "5rI_auzE5ie5",
      "execution_count": null,
      "outputs": []
    },
    {
      "cell_type": "code",
      "source": [
        "%%bigquery\n",
        "SELECT * FROM EXTERNAL_OBJECT_TRANSFORM(TABLE `{project_}.{dataset_}.object_table`, ['SIGNED_URL']);"
      ],
      "metadata": {
        "id": "gNtCZRBKDfgo"
      },
      "id": "gNtCZRBKDfgo",
      "execution_count": null,
      "outputs": []
    },
    {
      "cell_type": "code",
      "source": [
        "# @title 🐞\n",
        "print(f\"\"\"%%bigquery\n",
        "SELECT * FROM `{project_}.{dataset_}.object_table` LIMIT 5;\"\"\")"
      ],
      "metadata": {
        "id": "A1Vo0LFt7x-9"
      },
      "id": "A1Vo0LFt7x-9",
      "execution_count": null,
      "outputs": []
    },
    {
      "cell_type": "code",
      "source": [
        "%%bigquery\n",
        "SELECT ml_generate_text_llm_result, ml_generate_text_status, signed_url  FROM\n",
        "ML.GENERATE_TEXT(\n",
        "  MODEL `{project_}.{dataset_}.{model_}`,\n",
        "  TABLE `{project_}.{dataset_}.object_table`,\n",
        "  STRUCT(0.2 AS temperature,\n",
        "  'Erzeuge eine Zusammenfassung des Videos' AS PROMPT,\n",
        "  TRUE AS FLATTEN_JSON_OUTPUT)) result\n",
        "JOIN EXTERNAL_OBJECT_TRANSFORM(\n",
        "  TABLE `{project_}.{dataset_}.object_table`, ['SIGNED_URL']\n",
        ") transformed ON result.uri = transformed.uri;"
      ],
      "metadata": {
        "id": "GXSI4zNjBVRw"
      },
      "id": "GXSI4zNjBVRw",
      "execution_count": null,
      "outputs": []
    },
    {
      "cell_type": "code",
      "source": [
        "# @title 🐞\n",
        "print(f\"\"\"%%bigquery\n",
        "SELECT * FROM\n",
        "ML.GENERATE_TEXT(\n",
        "  MODEL `{project_}.{dataset_}.{model_}`,\n",
        "  TABLE `{project_}.{dataset_}.object_table`,\n",
        "  STRUCT(0.2 AS temperature,\n",
        "  'Erzeuge eine Zusammenfassung des Videos' AS PROMPT,\n",
        "  TRUE AS FLATTEN_JSON_OUTPUT)) result\n",
        "JOIN EXTERNAL_OBJECT_TRANSFORM(\n",
        "  TABLE `{project_}.{dataset_}.object_table`, ['SIGNED_URL']\n",
        ") transformed ON result.uri = transformed.uri;\n",
        "\"\"\")"
      ],
      "metadata": {
        "id": "8VGqlIbBVEE2"
      },
      "id": "8VGqlIbBVEE2",
      "execution_count": null,
      "outputs": []
    }
  ],
  "metadata": {
    "kernelspec": {
      "display_name": "Python 3",
      "language": "python",
      "name": "python3"
    },
    "language_info": {
      "codemirror_mode": {
        "name": "ipython",
        "version": 3
      },
      "file_extension": ".py",
      "mimetype": "text/x-python",
      "name": "python",
      "nbconvert_exporter": "python",
      "pygments_lexer": "ipython3",
      "version": "3.10.10"
    },
    "colab": {
      "provenance": [],
      "name": "Gemini with BQ (4).ipynb"
    }
  },
  "nbformat": 4,
  "nbformat_minor": 5
}